{
 "cells": [
  {
   "cell_type": "markdown",
   "metadata": {},
   "source": [
    "# Mphasis DeepInsights Key Phrase Extractor\n",
    "\n",
    "Mphasis DeepInsights is a cloud-based cognitive computing platform that offers data extraction & predictive analytics capabilities Key phrase extractor collects all the important key phrases form given text. This module uses end-to-end key-phrase extraction pipeline, text analysis and natural language processing techniques to automate key words extraction from text documents. This solution is an unsupervised graph-based algorithm for the construction of word network in order to identify most relevant keywords.\n",
    "\n",
    "### Prerequisite\n",
    "\n",
    "The kernel comes pre-installed with the required packages. Else ensure to have the following Python Packages in your environment at minimum:\n",
    "\n",
    "    - numpy\n",
    "    - pandas\n",
    "    - nltk\n",
    "\n",
    " ### Contents\n",
    "\n",
    "1. [Importing libraries for runtime](#Importing-libraries-for-runtime)\n",
    "1. [Model](#Model)\n",
    "1. [Batch Transform](#Batch-Transform)\n",
    "1. [Output](#Output)\n",
    "1. [Endpoint](#Endpoint)"
   ]
  },
  {
   "cell_type": "markdown",
   "metadata": {},
   "source": [
    "## Importing libraries for runtime"
   ]
  },
  {
   "cell_type": "code",
   "execution_count": 1,
   "metadata": {},
   "outputs": [],
   "source": [
    "import pandas as pd\n",
    "import boto3\n",
    "import re"
   ]
  },
  {
   "cell_type": "markdown",
   "metadata": {},
   "source": [
    "### Input Format\n",
    "Input file from sage_maker should be of the form .txt and with 'utf-8' encoding. Ensure Content-Type is 'text/plane'"
   ]
  },
  {
   "cell_type": "code",
   "execution_count": 2,
   "metadata": {},
   "outputs": [
    {
     "name": "stdout",
     "output_type": "stream",
     "text": [
      "Uttar Pradesh Chief Minister Yogi Adityanath on Friday flagged off the Tejas Express, the country's first \"private\" train run by its subsidiary IRCTC,\r\n",
      "on the Lucknow-New Delhi route. The commercial run of the train starts on Saturday.\r\n",
      "The Tejas Express cuts the time travelled between the two cities to 6.15 hours from the 6.40 hours taken by the Swarn Shatabdi,\r\n",
      "currently the fastest train on the route.\"It is the first corporate train of the country. I congratulate the first batch of passengers travelling\r\n",
      "in it and hope such initiatives are taken to connect other cities as well,\" Adityanath said.\r\n",
      "\"I thank Prime Minister Narendra Modi and Railway Minister Piyush Goel for giving the first corporate train from the biggest state to Delhi.\r\n",
      "This is a competitive era and and there is need for environment friendly public transport to be accepted in society,\" Adityanath said.\r\n",
      "When mobile phones were first introduced, charges were astronomical but now every person has a mobile phone, he said.\r\n",
      "\r\n",
      "\n"
     ]
    }
   ],
   "source": [
    "file1 = open(\"input.txt\",\"r+\")\n",
    "print(file1.read())"
   ]
  },
  {
   "cell_type": "markdown",
   "metadata": {},
   "source": [
    "## Model\n",
    "\n",
    "### De-Serializing model\n",
    "\n",
    "The serialzed Pickle file containing the trained model must be loaded for extracting key-phrases from the input text.\n",
    "\n",
    "The model is de-serialized to a Python object.\n",
    "\n",
    "<b> Note: \n",
    "    Ensure the trained model exist in sagemaker container and is placed in ../model directory.\n",
    "</b>"
   ]
  },
  {
   "cell_type": "code",
   "execution_count": 3,
   "metadata": {},
   "outputs": [],
   "source": [
    "model_package_arn = 'arn:aws:sagemaker:us-east-2:786796469737:model-package/mphasis-marketplace-keyphrase-extractor'"
   ]
  },
  {
   "cell_type": "code",
   "execution_count": 4,
   "metadata": {},
   "outputs": [],
   "source": [
    "from sagemaker import ModelPackage\n",
    "import sagemaker as sage\n",
    "from sagemaker import get_execution_role\n",
    "\n",
    "role = get_execution_role()\n",
    "sagemaker_session = sage.Session()"
   ]
  },
  {
   "cell_type": "code",
   "execution_count": 5,
   "metadata": {},
   "outputs": [],
   "source": [
    "model = ModelPackage(model_package_arn=model_package_arn,\n",
    "                    role = role,\n",
    "                    sagemaker_session = sagemaker_session)"
   ]
  },
  {
   "cell_type": "markdown",
   "metadata": {},
   "source": [
    "## Batch Transform\n"
   ]
  },
  {
   "cell_type": "code",
   "execution_count": 6,
   "metadata": {},
   "outputs": [
    {
     "name": "stdout",
     "output_type": "stream",
     "text": [
      "...............\u001b[34m/usr/local/lib/python3.6/dist-packages/sklearn/externals/joblib/__init__.py:15: DeprecationWarning: sklearn.externals.joblib is deprecated in 0.21 and will be removed in 0.23. Please import this functionality directly from joblib, which can be installed with: pip install joblib. If this warning is raised when loading pickled models, you may need to re-serialize those models with scikit-learn 0.21+.\n",
      "  warnings.warn(msg, category=DeprecationWarning)\n",
      " * Serving Flask app \"serve\" (lazy loading)\n",
      " * Environment: production\n",
      "   WARNING: This is a development server. Do not use it in a production deployment.\n",
      "   Use a production WSGI server instead.\n",
      " * Debug mode: on\n",
      " * Running on http://0.0.0.0:8080/ (Press CTRL+C to quit)\n",
      " * Restarting with stat\u001b[0m\n",
      "\u001b[34m/usr/local/lib/python3.6/dist-packages/sklearn/externals/joblib/__init__.py:15: DeprecationWarning: sklearn.externals.joblib is deprecated in 0.21 and will be removed in 0.23. Please import this functionality directly from joblib, which can be installed with: pip install joblib. If this warning is raised when loading pickled models, you may need to re-serialize those models with scikit-learn 0.21+.\n",
      "  warnings.warn(msg, category=DeprecationWarning)\n",
      " * Debugger is active!\n",
      " * Debugger PIN: 228-130-405\u001b[0m\n",
      "\u001b[34m169.254.255.130 - - [07/Feb/2020 10:01:16] \"GET /ping HTTP/1.1\" 200 -\u001b[0m\n",
      "\u001b[34m169.254.255.130 - - [07/Feb/2020 10:01:16] \"GET /execution-parameters HTTP/1.1\" 404 -\u001b[0m\n",
      "\u001b[35m169.254.255.130 - - [07/Feb/2020 10:01:16] \"GET /ping HTTP/1.1\" 200 -\u001b[0m\n",
      "\u001b[35m169.254.255.130 - - [07/Feb/2020 10:01:16] \"GET /execution-parameters HTTP/1.1\" 404 -\u001b[0m\n",
      "\u001b[34m1\u001b[0m\n",
      "\u001b[35m1\u001b[0m\n",
      "\u001b[34m1\u001b[0m\n",
      "\u001b[35m1\u001b[0m\n",
      "\u001b[34mWARNING:root:Not enough candidates to choose from (20 requested, 4 given)\u001b[0m\n",
      "\u001b[34m1\u001b[0m\n",
      "\u001b[34m1\u001b[0m\n",
      "\u001b[35mWARNING:root:Not enough candidates to choose from (20 requested, 4 given)\u001b[0m\n",
      "\u001b[35m1\u001b[0m\n",
      "\u001b[35m1\u001b[0m\n",
      "\u001b[32m2020-02-07T10:01:16.746:[sagemaker logs]: MaxConcurrentTransforms=1, MaxPayloadInMB=6, BatchStrategy=MULTI_RECORD\u001b[0m\n",
      "\u001b[34mWARNING:root:Not enough candidates to choose from (20 requested, 15 given)\u001b[0m\n",
      "\u001b[34m1\u001b[0m\n",
      "\u001b[35mWARNING:root:Not enough candidates to choose from (20 requested, 15 given)\u001b[0m\n",
      "\u001b[35m1\u001b[0m\n",
      "\u001b[34m1\u001b[0m\n",
      "\u001b[34m1\u001b[0m\n",
      "\u001b[34mBefore Processing ['narendra modi', 'minister narendra', 'pradesh chief minister yogi', 'tejas express', 'public', 'friendly public transport', 'minister narendra modi', 'minister piyush', 'city', 'minister piyush goel', 'mobile phone', 'railway minister piyush goel', 'chief minister', 'subsidiary irctc', 'prime minister narendra']\u001b[0m\n",
      "\u001b[35m1\u001b[0m\n",
      "\u001b[35m1\u001b[0m\n",
      "\u001b[35mBefore Processing ['narendra modi', 'minister narendra', 'pradesh chief minister yogi', 'tejas express', 'public', 'friendly public transport', 'minister narendra modi', 'minister piyush', 'city', 'minister piyush goel', 'mobile phone', 'railway minister piyush goel', 'chief minister', 'subsidiary irctc', 'prime minister narendra']\u001b[0m\n",
      "\u001b[34mlist index out of range\n",
      "\n",
      "\u001b[0m\n",
      "\u001b[34mAfter Processing ['narendra modi', 'minister narendra', 'pradesh chief minister yogi', 'tejas express', 'public', 'friendly public transport', 'minister piyush', 'city', 'mobile phone', 'railway minister piyush goel', 'chief minister', 'subsidiary irctc', 'prime minister narendra']\u001b[0m\n",
      "\u001b[34m['narendra modi', 'minister narendra', 'pradesh chief minister yogi', 'tejas express', 'public', 'friendly public transport', 'minister piyush', 'city', 'mobile phone', 'railway minister piyush goel', 'chief minister', 'subsidiary irctc', 'prime minister narendra']\u001b[0m\n",
      "\u001b[34m169.254.255.130 - - [07/Feb/2020 10:01:23] \"POST /invocations HTTP/1.1\" 200 -\u001b[0m\n",
      "\u001b[34mINFO:werkzeug:169.254.255.130 - - [07/Feb/2020 10:01:23] \"POST /invocations HTTP/1.1\" 200 -\u001b[0m\n",
      "\u001b[35mlist index out of range\n",
      "\n",
      "\u001b[0m\n",
      "\u001b[35mAfter Processing ['narendra modi', 'minister narendra', 'pradesh chief minister yogi', 'tejas express', 'public', 'friendly public transport', 'minister piyush', 'city', 'mobile phone', 'railway minister piyush goel', 'chief minister', 'subsidiary irctc', 'prime minister narendra']\u001b[0m\n",
      "\u001b[35m['narendra modi', 'minister narendra', 'pradesh chief minister yogi', 'tejas express', 'public', 'friendly public transport', 'minister piyush', 'city', 'mobile phone', 'railway minister piyush goel', 'chief minister', 'subsidiary irctc', 'prime minister narendra']\u001b[0m\n",
      "\u001b[35m169.254.255.130 - - [07/Feb/2020 10:01:23] \"POST /invocations HTTP/1.1\" 200 -\u001b[0m\n",
      "\u001b[35mINFO:werkzeug:169.254.255.130 - - [07/Feb/2020 10:01:23] \"POST /invocations HTTP/1.1\" 200 -\u001b[0m\n",
      "\u001b[34m1\u001b[0m\n",
      "\u001b[34m1\u001b[0m\n",
      "\u001b[35m1\u001b[0m\n",
      "\u001b[35m1\u001b[0m\n",
      "\u001b[34mWARNING:root:Not enough candidates to choose from (20 requested, 11 given)\u001b[0m\n",
      "\u001b[35mWARNING:root:Not enough candidates to choose from (20 requested, 11 given)\u001b[0m\n",
      "\u001b[34m1\u001b[0m\n",
      "\u001b[35m1\u001b[0m\n",
      "\u001b[34m1\u001b[0m\n",
      "\u001b[34mWARNING:root:Candidates are generated using 0.33-top\u001b[0m\n",
      "\u001b[34m1\u001b[0m\n",
      "\u001b[35m1\u001b[0m\n",
      "\u001b[35mWARNING:root:Candidates are generated using 0.33-top\u001b[0m\n",
      "\u001b[35m1\u001b[0m\n",
      "\u001b[34m1\u001b[0m\n",
      "\u001b[34m1\u001b[0m\n",
      "\u001b[35m1\u001b[0m\n",
      "\u001b[35m1\u001b[0m\n",
      "\u001b[34m1\u001b[0m\n",
      "\u001b[34mBefore Processing ['pradesh chief minister yogi', 'minister narendra', 'environment friendly public transport', 'mobile phone', 'mobile phones', 'train start', 'subsidiary irctc', 'prime minister narendra modi', 'corporate train', 'first batch', 'tejas express', 'minister piyush', 'friendly public', 'other cities', 'fast train', 'railway minister piyush goel', 'first corporate train', 'fastest train']\u001b[0m\n",
      "\u001b[34mlist index out of range\n",
      "\n",
      "\u001b[0m\n",
      "\u001b[34mAfter Processing ['pradesh chief minister yogi', 'minister narendra', 'environment friendly public transport', 'mobile phone', 'train start', 'subsidiary irctc', 'corporate train', 'first batch', 'tejas express', 'minister piyush', 'friendly public', 'other cities', 'fast train', 'railway minister piyush goel', 'fastest train']\u001b[0m\n",
      "\u001b[34m['pradesh chief minister yogi', 'minister narendra', 'environment friendly public transport', 'mobile phone', 'train start', 'subsidiary irctc', 'corporate train', 'first batch', 'tejas express', 'minister piyush', 'friendly public', 'other cities', 'fast train', 'railway minister piyush goel', 'fastest train']\u001b[0m\n",
      "\u001b[34m169.254.255.130 - - [07/Feb/2020 10:01:27] \"POST /invocations HTTP/1.1\" 200 -\u001b[0m\n",
      "\u001b[34mINFO:werkzeug:169.254.255.130 - - [07/Feb/2020 10:01:27] \"POST /invocations HTTP/1.1\" 200 -\u001b[0m\n",
      "\u001b[35m1\u001b[0m\n",
      "\u001b[35mBefore Processing ['pradesh chief minister yogi', 'minister narendra', 'environment friendly public transport', 'mobile phone', 'mobile phones', 'train start', 'subsidiary irctc', 'prime minister narendra modi', 'corporate train', 'first batch', 'tejas express', 'minister piyush', 'friendly public', 'other cities', 'fast train', 'railway minister piyush goel', 'first corporate train', 'fastest train']\u001b[0m\n",
      "\u001b[35mlist index out of range\n",
      "\n",
      "\u001b[0m\n",
      "\u001b[35mAfter Processing ['pradesh chief minister yogi', 'minister narendra', 'environment friendly public transport', 'mobile phone', 'train start', 'subsidiary irctc', 'corporate train', 'first batch', 'tejas express', 'minister piyush', 'friendly public', 'other cities', 'fast train', 'railway minister piyush goel', 'fastest train']\u001b[0m\n",
      "\u001b[35m['pradesh chief minister yogi', 'minister narendra', 'environment friendly public transport', 'mobile phone', 'train start', 'subsidiary irctc', 'corporate train', 'first batch', 'tejas express', 'minister piyush', 'friendly public', 'other cities', 'fast train', 'railway minister piyush goel', 'fastest train']\u001b[0m\n",
      "\u001b[35m169.254.255.130 - - [07/Feb/2020 10:01:27] \"POST /invocations HTTP/1.1\" 200 -\u001b[0m\n",
      "\u001b[35mINFO:werkzeug:169.254.255.130 - - [07/Feb/2020 10:01:27] \"POST /invocations HTTP/1.1\" 200 -\u001b[0m\n",
      "\n",
      "Batch Transform complete\n"
     ]
    }
   ],
   "source": [
    "import json \n",
    "import uuid\n",
    "\n",
    "\n",
    "transformer = model.transformer(1, 'ml.m5.large')\n",
    "transformer.transform('s3://mphasis-marketplace/topic-identification/input.txt', content_type='text/plain')\n",
    "transformer.wait()\n",
    "#transformer.output_path\n",
    "print(\"Batch Transform complete\")\n",
    "bucketFolder = transformer.output_path.rsplit('/')[3]"
   ]
  },
  {
   "cell_type": "code",
   "execution_count": 7,
   "metadata": {},
   "outputs": [
    {
     "name": "stdout",
     "output_type": "stream",
     "text": [
      "Output file loaded from bucket\n"
     ]
    }
   ],
   "source": [
    "#print(s3bucket,s3prefix)\n",
    "s3_conn = boto3.client(\"s3\")\n",
    "bucket_name=\"sagemaker-us-east-2-786796469737\"\n",
    "with open('output.csv', 'wb') as f:\n",
    "    s3_conn.download_fileobj(bucket_name, bucketFolder+'/input.txt.out', f)\n",
    "    print(\"Output file loaded from bucket\")"
   ]
  },
  {
   "cell_type": "markdown",
   "metadata": {},
   "source": [
    "## Output\n",
    "\n",
    "Now that Text and Trained model are ready, we can deploy the model for extracting important Topics/Key words from the text. The processed output is of the form .csv file containing all the Key words present in the input text."
   ]
  },
  {
   "cell_type": "code",
   "execution_count": 8,
   "metadata": {
    "scrolled": true
   },
   "outputs": [
    {
     "name": "stdout",
     "output_type": "stream",
     "text": [
      "Output: \n"
     ]
    },
    {
     "data": {
      "text/html": [
       "<div>\n",
       "<style scoped>\n",
       "    .dataframe tbody tr th:only-of-type {\n",
       "        vertical-align: middle;\n",
       "    }\n",
       "\n",
       "    .dataframe tbody tr th {\n",
       "        vertical-align: top;\n",
       "    }\n",
       "\n",
       "    .dataframe thead th {\n",
       "        text-align: right;\n",
       "    }\n",
       "</style>\n",
       "<table border=\"1\" class=\"dataframe\">\n",
       "  <thead>\n",
       "    <tr style=\"text-align: right;\">\n",
       "      <th></th>\n",
       "      <th>Key Topics</th>\n",
       "    </tr>\n",
       "  </thead>\n",
       "  <tbody>\n",
       "    <tr>\n",
       "      <th>0</th>\n",
       "      <td>pradesh chief minister yogi</td>\n",
       "    </tr>\n",
       "    <tr>\n",
       "      <th>1</th>\n",
       "      <td>minister narendra</td>\n",
       "    </tr>\n",
       "    <tr>\n",
       "      <th>2</th>\n",
       "      <td>environment friendly public transport</td>\n",
       "    </tr>\n",
       "    <tr>\n",
       "      <th>3</th>\n",
       "      <td>mobile phone</td>\n",
       "    </tr>\n",
       "    <tr>\n",
       "      <th>4</th>\n",
       "      <td>train start</td>\n",
       "    </tr>\n",
       "    <tr>\n",
       "      <th>5</th>\n",
       "      <td>subsidiary irctc</td>\n",
       "    </tr>\n",
       "    <tr>\n",
       "      <th>6</th>\n",
       "      <td>corporate train</td>\n",
       "    </tr>\n",
       "    <tr>\n",
       "      <th>7</th>\n",
       "      <td>first batch</td>\n",
       "    </tr>\n",
       "    <tr>\n",
       "      <th>8</th>\n",
       "      <td>tejas express</td>\n",
       "    </tr>\n",
       "    <tr>\n",
       "      <th>9</th>\n",
       "      <td>minister piyush</td>\n",
       "    </tr>\n",
       "  </tbody>\n",
       "</table>\n",
       "</div>"
      ],
      "text/plain": [
       "                              Key Topics\n",
       "0            pradesh chief minister yogi\n",
       "1                      minister narendra\n",
       "2  environment friendly public transport\n",
       "3                           mobile phone\n",
       "4                            train start\n",
       "5                       subsidiary irctc\n",
       "6                        corporate train\n",
       "7                            first batch\n",
       "8                          tejas express\n",
       "9                        minister piyush"
      ]
     },
     "execution_count": 8,
     "metadata": {},
     "output_type": "execute_result"
    }
   ],
   "source": [
    "output_df  = pd.read_csv(\"output.csv\")\n",
    "output_df  = output_df.drop('Unnamed: 0',1)\n",
    "out_final = output_df[[\"Key Topics\"]]\n",
    "print(\"Output: \")\n",
    "out_final.head(10)"
   ]
  },
  {
   "cell_type": "markdown",
   "metadata": {},
   "source": [
    "## Endpoint\n",
    "Here is a sample endpoint for reference"
   ]
  },
  {
   "cell_type": "code",
   "execution_count": 9,
   "metadata": {},
   "outputs": [],
   "source": [
    "import json \n",
    "import uuid\n",
    "from sagemaker import ModelPackage\n",
    "import sagemaker as sage\n",
    "from sagemaker import get_execution_role\n",
    "from sagemaker import ModelPackage\n",
    "import boto3\n",
    "from IPython.display import Image\n",
    "from PIL import Image as ImageEdit\n",
    "\n",
    "role = get_execution_role()\n",
    "\n",
    "sagemaker_session = sage.Session()\n",
    "bucket=sagemaker_session.default_bucket()"
   ]
  },
  {
   "cell_type": "code",
   "execution_count": 10,
   "metadata": {},
   "outputs": [],
   "source": [
    "content_type='text/plain'\n",
    "model_name='key-phrase-model'\n",
    "real_time_inference_instance_type='ml.m5.xlarge'"
   ]
  },
  {
   "cell_type": "code",
   "execution_count": 11,
   "metadata": {},
   "outputs": [],
   "source": [
    "model_package_arn = 'arn:aws:sagemaker:us-east-2:786796469737:model-package/mphasis-marketplace-keyphrase-extractor'"
   ]
  },
  {
   "cell_type": "code",
   "execution_count": 12,
   "metadata": {},
   "outputs": [],
   "source": [
    "from sagemaker import ModelPackage\n",
    "import sagemaker as sage\n",
    "from sagemaker import get_execution_role\n",
    "\n",
    "role = get_execution_role()\n",
    "sagemaker_session = sage.Session()"
   ]
  },
  {
   "cell_type": "code",
   "execution_count": 13,
   "metadata": {},
   "outputs": [],
   "source": [
    "#Define predictor wrapper class\n",
    "def predict_wrapper(endpoint, session):\n",
    "    return sage.RealTimePredictor(endpoint, session,content_type=content_type)\n",
    "#create a deployable model from the model package.\n",
    "model = ModelPackage(role=role,\n",
    "                    model_package_arn=model_package_arn,\n",
    "                    sagemaker_session=sagemaker_session,\n",
    "                    predictor_cls=predict_wrapper)"
   ]
  },
  {
   "cell_type": "code",
   "execution_count": 14,
   "metadata": {},
   "outputs": [
    {
     "name": "stdout",
     "output_type": "stream",
     "text": [
      "-----------!"
     ]
    }
   ],
   "source": [
    "predictor = model.deploy(1, real_time_inference_instance_type, endpoint_name=model_name)"
   ]
  },
  {
   "cell_type": "code",
   "execution_count": 15,
   "metadata": {},
   "outputs": [],
   "source": [
    "file_name=\"input.txt\""
   ]
  },
  {
   "cell_type": "code",
   "execution_count": 16,
   "metadata": {},
   "outputs": [
    {
     "name": "stdout",
     "output_type": "stream",
     "text": [
      "{\r\n",
      "    \"InvokedProductionVariant\": \"AllTraffic\", \r\n",
      "    \"ContentType\": \"text/csv; charset=utf-8\"\r\n",
      "}\r\n"
     ]
    }
   ],
   "source": [
    "!aws sagemaker-runtime invoke-endpoint --endpoint-name $model_name --body fileb://$file_name --content-type 'text/plain' --region us-east-2 output.csv"
   ]
  },
  {
   "cell_type": "code",
   "execution_count": 17,
   "metadata": {},
   "outputs": [
    {
     "name": "stdout",
     "output_type": "stream",
     "text": [
      ",Key Topics\n",
      "0,minister narendra\n",
      "1,fast train\n",
      "2,pradesh chief minister yogi\n",
      "3,minister piyush\n",
      "4,friendly public\n",
      "5,train start\n",
      "6,environment friendly public transport\n",
      "7,mobile phone\n",
      "8,corporate train\n",
      "9,other cities\n",
      "10,tejas express\n",
      "11,first batch\n",
      "12,subsidiary irctc\n",
      "13,railway minister piyush goel\n",
      "14,mobile phones\n",
      "\n"
     ]
    }
   ],
   "source": [
    "f = open('./input.txt', mode='r')\n",
    "data=f.read()\n",
    "prediction = predictor.predict(data)\n",
    "print(prediction)"
   ]
  },
  {
   "cell_type": "code",
   "execution_count": 18,
   "metadata": {},
   "outputs": [],
   "source": [
    "predictor.delete_endpoint()"
   ]
  },
  {
   "cell_type": "code",
   "execution_count": null,
   "metadata": {},
   "outputs": [],
   "source": []
  }
 ],
 "metadata": {
  "kernelspec": {
   "display_name": "Python 3",
   "language": "python",
   "name": "python3"
  },
  "language_info": {
   "codemirror_mode": {
    "name": "ipython",
    "version": 3
   },
   "file_extension": ".py",
   "mimetype": "text/x-python",
   "name": "python",
   "nbconvert_exporter": "python",
   "pygments_lexer": "ipython3",
   "version": "3.7.1"
  }
 },
 "nbformat": 4,
 "nbformat_minor": 2
}
